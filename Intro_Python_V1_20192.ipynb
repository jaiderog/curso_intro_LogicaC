{
  "nbformat": 4,
  "nbformat_minor": 0,
  "metadata": {
    "colab": {
      "name": "Intro_Python_V-0.1-20191.ipynb",
      "provenance": [],
      "include_colab_link": true
    },
    "kernelspec": {
      "name": "python3",
      "display_name": "Python 3"
    }
  },
  "cells": [
    {
      "cell_type": "markdown",
      "metadata": {
        "id": "view-in-github",
        "colab_type": "text"
      },
      "source": [
        "<a href=\"https://colab.research.google.com/github/jaiderog/curso_intro_LogicaC/blob/master/Intro_Python_V1_20192.ipynb\" target=\"_parent\"><img src=\"https://colab.research.google.com/assets/colab-badge.svg\" alt=\"Open In Colab\"/></a>"
      ]
    },
    {
      "cell_type": "markdown",
      "metadata": {
        "id": "4dagioHlELbC",
        "colab_type": "text"
      },
      "source": [
        "[![Open In Colab](https://colab.research.google.com/assets/colab-badge.svg)](https://colab.research.google.com/github/googlecolab/colabtools/blob/master/notebooks/colab-github-demo.ipynb)"
      ]
    },
    {
      "cell_type": "markdown",
      "metadata": {
        "id": "w2plYv1c29Yh",
        "colab_type": "text"
      },
      "source": [
        "<p><img alt=\"Colaboratory logo\" height=\"140px\" src=\"https://upload.wikimedia.org/wikipedia/commons/archive/f/fb/20161010213812%21Escudo-UdeA.svg\" align=\"left\" hspace=\"10px\" vspace=\"0px\"></p>\n",
        "\n",
        "<h1> Curso de Lógica Computacional EIB - Introducción a la programación</h1>\n",
        "\n",
        "<h2>Material preparado por: Jaider Ochoa-Gutiérrez y Fabián Baena</h2>\n",
        "\n",
        "¡Bienvenidos al curso de Lógica de Programación para los programas de pregrado de la Escuela Interamericana de Bibliotecologia! Este será nuestro \"cuaderno de programación\" para ir siguiendo y realizando los ejercicios básicos que nos permitan desarrollar un pensamiento computacional.\n",
        "\n",
        "Recuerden que lo más importante siempre será **¡prácticar, prácticar y prácticar!**\n"
      ]
    },
    {
      "cell_type": "markdown",
      "metadata": {
        "id": "bvo1vARAIFmM",
        "colab_type": "text"
      },
      "source": [
        "[Página web de Python](https://www.python.org/)\n",
        "\n",
        "\n",
        "\n",
        "**Características**\n",
        "\n",
        "\n",
        "*   Libre\n",
        "*   Multiplataforma\n",
        "*   Alto nivel\n",
        "*   Multiparadigma\n",
        "*   Orientado a objetos\n",
        "*   Dinámico (reconoce tipos de variables)\n",
        "\n",
        "\n",
        "Cuadernos de programación:\n",
        "[Jupyter](https://jupyter.org/)\n",
        "\n",
        "\n",
        "Distribución para instalarlo junto con Jupyter:\n",
        "[Anaconda](https://www.anaconda.com/)\n",
        "\n",
        "\n"
      ]
    },
    {
      "cell_type": "markdown",
      "metadata": {
        "id": "M39Px0qVAK5o",
        "colab_type": "text"
      },
      "source": [
        "##1. Variables y tipos de datos"
      ]
    },
    {
      "cell_type": "markdown",
      "metadata": {
        "id": "6kjhkqq5BqmH",
        "colab_type": "text"
      },
      "source": [
        "###Tipos de datos"
      ]
    },
    {
      "cell_type": "code",
      "metadata": {
        "id": "hYvc8PWaBvmg",
        "colab_type": "code",
        "colab": {}
      },
      "source": [
        "texto = \"str o cadena de texto\"\n",
        "inte = 5\n",
        "fluat = 5.0\n",
        "boolean = True\n",
        "lista = [1,2,\"cambia\",5.5]\n",
        "tupla = (1,2,\"no cambia\",7.4)\n",
        "dicc = {\"clave\":\"valor\",\"color\":\"azul\",\"marca\":\"mazda\"}"
      ],
      "execution_count": 0,
      "outputs": []
    },
    {
      "cell_type": "code",
      "metadata": {
        "id": "lh7T3THcCt_s",
        "colab_type": "code",
        "colab": {}
      },
      "source": [
        "type(text)"
      ],
      "execution_count": 0,
      "outputs": []
    },
    {
      "cell_type": "markdown",
      "metadata": {
        "id": "97zl_uQjA5t2",
        "colab_type": "text"
      },
      "source": [
        "### Realizar un programa que muestre un mensaje que diga \"hola mundo\""
      ]
    },
    {
      "cell_type": "code",
      "metadata": {
        "id": "w2L0YAmq215c",
        "colab_type": "code",
        "colab": {}
      },
      "source": [
        "variable1 = \"hola \"\n",
        "variable2 = \"mundo\""
      ],
      "execution_count": 0,
      "outputs": []
    },
    {
      "cell_type": "code",
      "metadata": {
        "id": "Q36MVeoY3C8_",
        "colab_type": "code",
        "outputId": "9c482c3a-40ab-4be0-9d4f-04cec86e2c06",
        "colab": {
          "base_uri": "https://localhost:8080/",
          "height": 35
        }
      },
      "source": [
        "print(variable1,variable2)"
      ],
      "execution_count": 0,
      "outputs": [
        {
          "output_type": "stream",
          "text": [
            "hola  mundo\n"
          ],
          "name": "stdout"
        }
      ]
    },
    {
      "cell_type": "markdown",
      "metadata": {
        "id": "UJRO5aoiBHu1",
        "colab_type": "text"
      },
      "source": [
        "###Realizar un programa que sume dos números enteros"
      ]
    },
    {
      "cell_type": "markdown",
      "metadata": {
        "id": "SrBpuuvrE1JV",
        "colab_type": "text"
      },
      "source": [
        "####Forma 1 - IC"
      ]
    },
    {
      "cell_type": "code",
      "metadata": {
        "id": "eKKPl87eAwqH",
        "colab_type": "code",
        "colab": {}
      },
      "source": [
        "n1 = \"34\"\n",
        "n2 = 23"
      ],
      "execution_count": 0,
      "outputs": []
    },
    {
      "cell_type": "code",
      "metadata": {
        "id": "PLQwv0dKBeT7",
        "colab_type": "code",
        "colab": {}
      },
      "source": [
        "suma = n1+n2"
      ],
      "execution_count": 0,
      "outputs": []
    },
    {
      "cell_type": "markdown",
      "metadata": {
        "id": "Io8IQSwIE8wD",
        "colab_type": "text"
      },
      "source": [
        "####Forma 2 - C"
      ]
    },
    {
      "cell_type": "code",
      "metadata": {
        "id": "lMUHC2q5FEr3",
        "colab_type": "code",
        "colab": {}
      },
      "source": [
        "n1 = 34\n",
        "n2 = 23"
      ],
      "execution_count": 0,
      "outputs": []
    },
    {
      "cell_type": "code",
      "metadata": {
        "id": "0JKE1qzKFKJh",
        "colab_type": "code",
        "colab": {}
      },
      "source": [
        "suma = n1+n2"
      ],
      "execution_count": 0,
      "outputs": []
    },
    {
      "cell_type": "code",
      "metadata": {
        "id": "evBrb3dCFPVP",
        "colab_type": "code",
        "outputId": "b86a7104-dffb-4bbf-c92c-2f9be53ee0d5",
        "colab": {
          "base_uri": "https://localhost:8080/",
          "height": 35
        }
      },
      "source": [
        "print(suma)"
      ],
      "execution_count": 0,
      "outputs": [
        {
          "output_type": "stream",
          "text": [
            "57\n"
          ],
          "name": "stdout"
        }
      ]
    },
    {
      "cell_type": "code",
      "metadata": {
        "id": "-_PRi-MSF10Q",
        "colab_type": "code",
        "colab": {}
      },
      "source": [
        ""
      ],
      "execution_count": 0,
      "outputs": []
    },
    {
      "cell_type": "markdown",
      "metadata": {
        "id": "rRe1q5tLWmTv",
        "colab_type": "text"
      },
      "source": [
        "###Ejercicio básico:**texto en negrita**\n",
        "Realiza un algoritmo que pida dos números al usuario y los sume-reste-multiplique y divida y muestre el resultado de cada operación"
      ]
    },
    {
      "cell_type": "code",
      "metadata": {
        "id": "FIPhVsGFW6mN",
        "colab_type": "code",
        "colab": {}
      },
      "source": [
        ""
      ],
      "execution_count": 0,
      "outputs": []
    },
    {
      "cell_type": "markdown",
      "metadata": {
        "id": "nh_qXHPbM5Ng",
        "colab_type": "text"
      },
      "source": [
        "# TIPOS DE DATOS\n",
        "\n",
        "---\n",
        "\n",
        "## Cadenas de texto"
      ]
    },
    {
      "cell_type": "code",
      "metadata": {
        "id": "Pkn1DZCJOV5Q",
        "colab_type": "code",
        "outputId": "a2f5f5f2-cff2-4637-86e1-7ddfbdd731f8",
        "colab": {
          "base_uri": "https://localhost:8080/",
          "height": 34
        }
      },
      "source": [
        "print (\"Buenos días clase!\")"
      ],
      "execution_count": 0,
      "outputs": [
        {
          "output_type": "stream",
          "text": [
            "Buenos días clase!\n"
          ],
          "name": "stdout"
        }
      ]
    },
    {
      "cell_type": "code",
      "metadata": {
        "id": "o6D94U1INjgv",
        "colab_type": "code",
        "outputId": "84b91256-0129-4a8e-c3a0-407db4c4ef8a",
        "colab": {
          "base_uri": "https://localhost:8080/",
          "height": 34
        }
      },
      "source": [
        "cabecera = \"Bienvenidos al curso\"\n",
        "print (cabecera)"
      ],
      "execution_count": 0,
      "outputs": [
        {
          "output_type": "stream",
          "text": [
            "Bienvenidos al curso\n"
          ],
          "name": "stdout"
        }
      ]
    },
    {
      "cell_type": "code",
      "metadata": {
        "id": "34WXm6n2PC6S",
        "colab_type": "code",
        "outputId": "ea7e7f51-b350-4b1f-b1f5-e213b29fc0e5",
        "colab": {
          "base_uri": "https://localhost:8080/",
          "height": 34
        }
      },
      "source": [
        "curso = \"Lógica de programación\"\n",
        "print (curso)"
      ],
      "execution_count": 0,
      "outputs": [
        {
          "output_type": "stream",
          "text": [
            "Lógica de programación\n"
          ],
          "name": "stdout"
        }
      ]
    },
    {
      "cell_type": "code",
      "metadata": {
        "id": "dSlWd3BdKg0-",
        "colab_type": "code",
        "outputId": "d9467dd0-ab3d-494c-d50b-1bb74c44da92",
        "colab": {
          "base_uri": "https://localhost:8080/",
          "height": 34
        }
      },
      "source": [
        "curso1 = \"'Lógica de programación'\"\n",
        "print (curso1)"
      ],
      "execution_count": 0,
      "outputs": [
        {
          "output_type": "stream",
          "text": [
            "'Lógica de programación'\n"
          ],
          "name": "stdout"
        }
      ]
    },
    {
      "cell_type": "code",
      "metadata": {
        "id": "nXmjdDuOKiHG",
        "colab_type": "code",
        "outputId": "bf18baf8-2465-4082-dead-c4675c42d362",
        "colab": {
          "base_uri": "https://localhost:8080/",
          "height": 34
        }
      },
      "source": [
        "curso2 = '\"Lógica de programación\"'\n",
        "print (curso2)"
      ],
      "execution_count": 0,
      "outputs": [
        {
          "output_type": "stream",
          "text": [
            "\"Lógica de programación\"\n"
          ],
          "name": "stdout"
        }
      ]
    },
    {
      "cell_type": "code",
      "metadata": {
        "id": "Rx-TWHAphYtE",
        "colab_type": "code",
        "outputId": "7eb68e1d-1254-42a7-97a3-79b51767393c",
        "colab": {
          "base_uri": "https://localhost:8080/",
          "height": 34
        }
      },
      "source": [
        "print(cabecera + curso2)"
      ],
      "execution_count": 0,
      "outputs": [
        {
          "output_type": "stream",
          "text": [
            "Bienvenidos al curso\"Lógica de programación\"\n"
          ],
          "name": "stdout"
        }
      ]
    },
    {
      "cell_type": "code",
      "metadata": {
        "id": "r6uozGizhiaU",
        "colab_type": "code",
        "outputId": "1a172314-fd1f-4035-d388-8dc0551341cd",
        "colab": {
          "base_uri": "https://localhost:8080/",
          "height": 52
        }
      },
      "source": [
        "print(cabecera , curso2)\n",
        "print(\"hoy es \",curso2)"
      ],
      "execution_count": 0,
      "outputs": [
        {
          "output_type": "stream",
          "text": [
            "Bienvenidos al curso \"Lógica de programación\"\n",
            "hoy es  \"Lógica de programación\"\n"
          ],
          "name": "stdout"
        }
      ]
    },
    {
      "cell_type": "code",
      "metadata": {
        "id": "ag6f70wcKFIO",
        "colab_type": "code",
        "outputId": "60276f18-c108-47b3-d769-c16702c043ff",
        "colab": {
          "base_uri": "https://localhost:8080/",
          "height": 34
        }
      },
      "source": [
        "print(cabecera ,\n",
        "      curso)"
      ],
      "execution_count": 0,
      "outputs": [
        {
          "output_type": "stream",
          "text": [
            "Bienvenidos al curso Lógica de programación\n"
          ],
          "name": "stdout"
        }
      ]
    },
    {
      "cell_type": "code",
      "metadata": {
        "id": "aVJO-OIXLH8G",
        "colab_type": "code",
        "outputId": "89f9928a-686d-4528-df50-08353faf1786",
        "colab": {
          "base_uri": "https://localhost:8080/",
          "height": 140
        }
      },
      "source": [
        "print(\"\"\"Este es un mensaje\n",
        "En varias\n",
        "Líneas de \n",
        "Código\n",
        "\n",
        "Y es lo mejor!\n",
        "\"\"\")"
      ],
      "execution_count": 0,
      "outputs": [
        {
          "output_type": "stream",
          "text": [
            "Este es un mensaje\n",
            "En varias\n",
            "Líneas de \n",
            "Código\n",
            "\n",
            "Y es lo mejor!\n",
            "\n"
          ],
          "name": "stdout"
        }
      ]
    },
    {
      "cell_type": "code",
      "metadata": {
        "id": "IGwCcd2DKxFJ",
        "colab_type": "code",
        "outputId": "7515a9d5-66de-4e97-8740-646ea639e85b",
        "colab": {
          "base_uri": "https://localhost:8080/",
          "height": 52
        }
      },
      "source": [
        "print(cabecera,\"\"\"\n",
        "\"\"\",curso)"
      ],
      "execution_count": 0,
      "outputs": [
        {
          "output_type": "stream",
          "text": [
            "Bienvenidos al curso \n",
            " Lógica de programación\n"
          ],
          "name": "stdout"
        }
      ]
    },
    {
      "cell_type": "code",
      "metadata": {
        "id": "JcKZsSryK3bo",
        "colab_type": "code",
        "outputId": "af916c21-fa7a-442f-a8fb-c6469d277c5d",
        "colab": {
          "base_uri": "https://localhost:8080/",
          "height": 70
        }
      },
      "source": [
        "print(\" Este\\n es otro\\n método\")"
      ],
      "execution_count": 0,
      "outputs": [
        {
          "output_type": "stream",
          "text": [
            " Este\n",
            " es otro\n",
            " método\n"
          ],
          "name": "stdout"
        }
      ]
    },
    {
      "cell_type": "code",
      "metadata": {
        "id": "uWTFkA8WLejG",
        "colab_type": "code",
        "outputId": "a8d60f16-4f53-462e-c060-50ec8810a4da",
        "colab": {
          "base_uri": "https://localhost:8080/",
          "height": 52
        }
      },
      "source": [
        "print(cabecera,\"\\n\",curso)"
      ],
      "execution_count": 0,
      "outputs": [
        {
          "output_type": "stream",
          "text": [
            "Bienvenidos al curso \n",
            " Lógica de programación\n"
          ],
          "name": "stdout"
        }
      ]
    },
    {
      "cell_type": "code",
      "metadata": {
        "id": "hRA9fz8TLrnN",
        "colab_type": "code",
        "outputId": "5c955f0e-e8b7-4897-e928-7b09e0b9b53b",
        "colab": {
          "base_uri": "https://localhost:8080/",
          "height": 34
        }
      },
      "source": [
        "nombre = \"Fabian\"\n",
        "nota = \"Aceptable\"\n",
        "print(\"El nombre del estudiante es: \" + nombre + \" y la Nota es: \" + nota)"
      ],
      "execution_count": 0,
      "outputs": [
        {
          "output_type": "stream",
          "text": [
            "El nombre del estudiante es: Fabian y la Nota es: Aceptable\n"
          ],
          "name": "stdout"
        }
      ]
    },
    {
      "cell_type": "code",
      "metadata": {
        "id": "gZabZeDdNHE5",
        "colab_type": "code",
        "outputId": "fdbda648-ee3e-4bbd-dbc3-22ced64d2ed9",
        "colab": {
          "base_uri": "https://localhost:8080/",
          "height": 34
        }
      },
      "source": [
        "nota2 = \"Regular\"\n",
        "sale = \"El nombre del estudiante es: %s y la Nota es: %s\" %(nombre,nota2)\n",
        "print (sale)"
      ],
      "execution_count": 0,
      "outputs": [
        {
          "output_type": "stream",
          "text": [
            "El nombre del estudiante es: Fabian y la Nota es: Regular\n"
          ],
          "name": "stdout"
        }
      ]
    },
    {
      "cell_type": "markdown",
      "metadata": {
        "id": "swElcbohN2hI",
        "colab_type": "text"
      },
      "source": [
        "## Ejercicio\n",
        "Desarrolle un programa que cree un encabezado de 3 líneas y en una cuarta presente los datos de variables que contenga: Número de salón, Nombre de profesor y día de clase."
      ]
    },
    {
      "cell_type": "markdown",
      "metadata": {
        "id": "rAYXo4p_O0D2",
        "colab_type": "text"
      },
      "source": [
        "## Números\n"
      ]
    },
    {
      "cell_type": "code",
      "metadata": {
        "id": "yeL8ptabQ0LT",
        "colab_type": "code",
        "colab": {}
      },
      "source": [
        "#Enteros\n",
        "e1 = 10\n",
        "e2 = 2\n",
        "e3 = 3\n",
        "\n",
        "#Flotantes\n",
        "f1 = 0.5\n",
        "f2 = 3.3\n",
        "f3 = 8.0"
      ],
      "execution_count": 0,
      "outputs": []
    },
    {
      "cell_type": "code",
      "metadata": {
        "id": "xE9uQWT7RABM",
        "colab_type": "code",
        "outputId": "a24370d1-1849-4747-924a-12a31639ff63",
        "colab": {
          "base_uri": "https://localhost:8080/",
          "height": 52
        }
      },
      "source": [
        "#suma\n",
        "print(e1 + e2)\n",
        "print(f1 + f2)"
      ],
      "execution_count": 0,
      "outputs": [
        {
          "output_type": "stream",
          "text": [
            "12\n",
            "3.8\n"
          ],
          "name": "stdout"
        }
      ]
    },
    {
      "cell_type": "code",
      "metadata": {
        "id": "mqFET3zTRKfP",
        "colab_type": "code",
        "outputId": "a0d02b7a-418e-4eaa-9586-07df41009330",
        "colab": {
          "base_uri": "https://localhost:8080/",
          "height": 52
        }
      },
      "source": [
        "#resta\n",
        "print(e3-e2)\n",
        "print(f3-f2)"
      ],
      "execution_count": 0,
      "outputs": [
        {
          "output_type": "stream",
          "text": [
            "1\n",
            "4.7\n"
          ],
          "name": "stdout"
        }
      ]
    },
    {
      "cell_type": "code",
      "metadata": {
        "id": "aF_zcUUyRVXu",
        "colab_type": "code",
        "outputId": "ba43bb6c-62b7-4fdf-fbde-53554feb9fd5",
        "colab": {
          "base_uri": "https://localhost:8080/",
          "height": 52
        }
      },
      "source": [
        "#multiplicación\n",
        "print(e2*e3)\n",
        "print(f2*f3)"
      ],
      "execution_count": 0,
      "outputs": [
        {
          "output_type": "stream",
          "text": [
            "6\n",
            "26.4\n"
          ],
          "name": "stdout"
        }
      ]
    },
    {
      "cell_type": "code",
      "metadata": {
        "id": "ZcBYqJ_uRpAN",
        "colab_type": "code",
        "outputId": "ec67d440-03d7-433a-d9f1-e931870e6215",
        "colab": {
          "base_uri": "https://localhost:8080/",
          "height": 34
        }
      },
      "source": [
        "#división\n",
        "print(e1/e2)"
      ],
      "execution_count": 0,
      "outputs": [
        {
          "output_type": "stream",
          "text": [
            "5.0\n"
          ],
          "name": "stdout"
        }
      ]
    },
    {
      "cell_type": "code",
      "metadata": {
        "id": "cDpAyBvYRc0W",
        "colab_type": "code",
        "outputId": "c7f16fa7-c43c-441b-df47-b5022ba1598f",
        "colab": {
          "base_uri": "https://localhost:8080/",
          "height": 34
        }
      },
      "source": [
        "#división\n",
        "print(int(e1/e2))"
      ],
      "execution_count": 0,
      "outputs": [
        {
          "output_type": "stream",
          "text": [
            "5\n"
          ],
          "name": "stdout"
        }
      ]
    },
    {
      "cell_type": "code",
      "metadata": {
        "id": "X9JdcEkqVFCP",
        "colab_type": "code",
        "outputId": "3e66f64d-3f6f-484a-d294-96443fadbf54",
        "colab": {
          "base_uri": "https://localhost:8080/",
          "height": 52
        }
      },
      "source": [
        "#Cambiar tipos de datos\n",
        "f_e1=float((e1))\n",
        "print(f_e1) # De Entero a Flotante\n",
        "e_f2=int((f2))\n",
        "print(e_f2) # De Flotante a Entero"
      ],
      "execution_count": 0,
      "outputs": [
        {
          "output_type": "stream",
          "text": [
            "10.0\n",
            "3\n"
          ],
          "name": "stdout"
        }
      ]
    },
    {
      "cell_type": "markdown",
      "metadata": {
        "id": "ULk6awnmSjY6",
        "colab_type": "text"
      },
      "source": [
        "![texto alternativo](http://www.mclibre.org/consultar/python/img/matematicas/mates-cociente-resto.svg)"
      ]
    },
    {
      "cell_type": "code",
      "metadata": {
        "id": "Hcx-ZruCSwaH",
        "colab_type": "code",
        "outputId": "926bfb41-5845-4ce5-ad70-2dbac52a97f8",
        "colab": {
          "base_uri": "https://localhost:8080/",
          "height": 34
        }
      },
      "source": [
        "#cociente\n",
        "print(e1//e3)"
      ],
      "execution_count": 0,
      "outputs": [
        {
          "output_type": "stream",
          "text": [
            "3\n"
          ],
          "name": "stdout"
        }
      ]
    },
    {
      "cell_type": "code",
      "metadata": {
        "id": "iSAWhk4bS_Pw",
        "colab_type": "code",
        "outputId": "9075f314-bcf0-47e3-9d8c-3e38dca8b0b6",
        "colab": {
          "base_uri": "https://localhost:8080/",
          "height": 52
        }
      },
      "source": [
        "#resiudo\n",
        "print(e1%e3)\n",
        "print(82148676017678648962 % 2)"
      ],
      "execution_count": 0,
      "outputs": [
        {
          "output_type": "stream",
          "text": [
            "1\n",
            "0\n"
          ],
          "name": "stdout"
        }
      ]
    },
    {
      "cell_type": "code",
      "metadata": {
        "id": "XzrCvYOcTRWP",
        "colab_type": "code",
        "outputId": "b4527f3a-049c-4282-a5ed-ee4560e9d2f2",
        "colab": {
          "base_uri": "https://localhost:8080/",
          "height": 34
        }
      },
      "source": [
        "#potencia\n",
        "print(e2**e3)"
      ],
      "execution_count": 0,
      "outputs": [
        {
          "output_type": "stream",
          "text": [
            "8\n"
          ],
          "name": "stdout"
        }
      ]
    },
    {
      "cell_type": "code",
      "metadata": {
        "id": "8RmgOBnXTb-C",
        "colab_type": "code",
        "outputId": "c846d37a-cc3b-4e92-e130-a72b995ea4e6",
        "colab": {
          "base_uri": "https://localhost:8080/",
          "height": 34
        }
      },
      "source": [
        "#raiz\n",
        "print(16**0.5)"
      ],
      "execution_count": 0,
      "outputs": [
        {
          "output_type": "stream",
          "text": [
            "4.0\n"
          ],
          "name": "stdout"
        }
      ]
    },
    {
      "cell_type": "markdown",
      "metadata": {
        "id": "hWmq7pyiUCbP",
        "colab_type": "text"
      },
      "source": [
        "##Ejercicio\n",
        "1. Calcular si un número es par o impar.\n",
        "2. Generar el total de una factura que incluya la venta de tres elementos de un mismo producto, descuente el 2% por ser una compra en efectivo, sume el valor del iva del 19%, y como es una compra en pareja diga cuanto debe pagar cada uno."
      ]
    },
    {
      "cell_type": "markdown",
      "metadata": {
        "id": "aK4aro-8V3I9",
        "colab_type": "text"
      },
      "source": [
        "##Booleanos"
      ]
    },
    {
      "cell_type": "code",
      "metadata": {
        "id": "FISe1xSgV6Hu",
        "colab_type": "code",
        "outputId": "e50d0629-af7f-45e7-cc60-90f182d04b3e",
        "colab": {
          "base_uri": "https://localhost:8080/",
          "height": 52
        }
      },
      "source": [
        "verdadero = True\n",
        "falso = False\n",
        "\n",
        "print(verdadero)\n",
        "print(falso)"
      ],
      "execution_count": 0,
      "outputs": [
        {
          "output_type": "stream",
          "text": [
            "True\n",
            "False\n"
          ],
          "name": "stdout"
        }
      ]
    },
    {
      "cell_type": "code",
      "metadata": {
        "id": "vrsVR0nKWF8h",
        "colab_type": "code",
        "outputId": "ebef153d-254b-4148-9949-ee9bd13fa987",
        "colab": {
          "base_uri": "https://localhost:8080/",
          "height": 34
        }
      },
      "source": [
        "int_verd = int(verdadero)\n",
        "print(int_verd)"
      ],
      "execution_count": 0,
      "outputs": [
        {
          "output_type": "stream",
          "text": [
            "1\n"
          ],
          "name": "stdout"
        }
      ]
    },
    {
      "cell_type": "code",
      "metadata": {
        "id": "XDxPojttWTf5",
        "colab_type": "code",
        "outputId": "5945bb3c-8aab-4cec-aeb7-197999aa994d",
        "colab": {
          "base_uri": "https://localhost:8080/",
          "height": 34
        }
      },
      "source": [
        "int_fal = int(falso)\n",
        "print(int_fal)"
      ],
      "execution_count": 0,
      "outputs": [
        {
          "output_type": "stream",
          "text": [
            "0\n"
          ],
          "name": "stdout"
        }
      ]
    },
    {
      "cell_type": "markdown",
      "metadata": {
        "id": "eIEFHmEeSFMb",
        "colab_type": "text"
      },
      "source": [
        "##Input\n",
        "Para pedir información al sistema debe utilizar la función **input()**"
      ]
    },
    {
      "cell_type": "code",
      "metadata": {
        "id": "wzKrJSLdWyPD",
        "colab_type": "code",
        "outputId": "0c24011c-fb3d-4c71-cc83-ad5d548661b4",
        "colab": {
          "base_uri": "https://localhost:8080/",
          "height": 34
        }
      },
      "source": [
        "nombre = \"\"\n",
        "print(\"El nombre es: \",nombre)"
      ],
      "execution_count": 0,
      "outputs": [
        {
          "output_type": "stream",
          "text": [
            "El nombre es:  \n"
          ],
          "name": "stdout"
        }
      ]
    },
    {
      "cell_type": "code",
      "metadata": {
        "id": "uztR8YyaW9A6",
        "colab_type": "code",
        "outputId": "bcee07f0-0ef9-4ba1-d4b0-579cbd70ce20",
        "colab": {
          "base_uri": "https://localhost:8080/",
          "height": 52
        }
      },
      "source": [
        "nombre = \"\"\n",
        "nombre = input(\"Escriba un nombre: \")\n",
        "print(\"El nombre es: \",nombre)"
      ],
      "execution_count": 0,
      "outputs": [
        {
          "output_type": "stream",
          "text": [
            "Escriba un nombre: cdghhjui tyi t7 \n",
            "El nombre es:  cdghhjui tyi t7 \n"
          ],
          "name": "stdout"
        }
      ]
    },
    {
      "cell_type": "code",
      "metadata": {
        "id": "dET9jmhgXLIT",
        "colab_type": "code",
        "outputId": "7589e114-85c0-48ea-ea05-abc45162ee31",
        "colab": {
          "base_uri": "https://localhost:8080/",
          "height": 70
        }
      },
      "source": [
        "#Debe transformar datos\n",
        "n1=input(\"Escriba un número: \")\n",
        "n2=input(\"Escriba otro número: \")\n",
        "n3 = n1+n2\n",
        "print(\"La suma es: \",n3)"
      ],
      "execution_count": 0,
      "outputs": [
        {
          "output_type": "stream",
          "text": [
            "Escriba un número: 5\n",
            "Escriba otro número: 2\n",
            "La suma es:  52\n"
          ],
          "name": "stdout"
        }
      ]
    },
    {
      "cell_type": "code",
      "metadata": {
        "id": "F2SgjyWRXeWR",
        "colab_type": "code",
        "outputId": "6a602979-83b7-48f9-86cc-d7e7d1dc3c3d",
        "colab": {
          "base_uri": "https://localhost:8080/",
          "height": 70
        }
      },
      "source": [
        "#Debe transformar datos\n",
        "n1=input(\"Escriba un número: \")\n",
        "n2=input(\"Escriba otro número: \")\n",
        "n1 = int(n1)\n",
        "n2 = int(n2)\n",
        "n3 = n1+n2\n",
        "print(\"La suma es: \",n3)"
      ],
      "execution_count": 0,
      "outputs": [
        {
          "output_type": "stream",
          "text": [
            "Escriba un número: 5\n",
            "Escriba otro número: 2\n",
            "La suma es:  7\n"
          ],
          "name": "stdout"
        }
      ]
    },
    {
      "cell_type": "markdown",
      "metadata": {
        "id": "f1VcBEiIX3T5",
        "colab_type": "text"
      },
      "source": [
        "## Ejercicio\n",
        "Cree un programa que pregunte los nombres, profesión y teléfonos a 3 usuarios y presentelos en un listado con un encabezado que diga:\n",
        "\n",
        "BASE DE DATOS\n",
        "  \n",
        "Posibles candidatos a la vacante de programador\n"
      ]
    },
    {
      "cell_type": "markdown",
      "metadata": {
        "id": "IU_aos9EM_id",
        "colab_type": "text"
      },
      "source": [
        "## Listas\n",
        "\n",
        "[DevCode dice](https://devcode.la/tutoriales/listas-python/)\n",
        "\n",
        "Una lista es una estructura de datos y un tipo de dato en python con características especiales. Lo especial de las listas en Python es que nos permiten almacenar cualquier tipo de valor como enteros, cadenas y hasta otras funciones.\n",
        "Una lista es un arreglo de elementos donde podemos ingresar cualquier tipo de dato, para acceder a estos datos podemos hacer mediante un índice."
      ]
    },
    {
      "cell_type": "code",
      "metadata": {
        "id": "orf_mrcKNleM",
        "colab_type": "code",
        "colab": {}
      },
      "source": [
        "lista = [20, 18.5, 'Programador',True,[\"1\",6] ,True]"
      ],
      "execution_count": 0,
      "outputs": []
    },
    {
      "cell_type": "code",
      "metadata": {
        "id": "uy1LBDOgNRqV",
        "colab_type": "code",
        "outputId": "8642fdc3-dbb1-41e7-c8dd-b29de4666cc6",
        "colab": {
          "base_uri": "https://localhost:8080/",
          "height": 175
        }
      },
      "source": [
        "print (lista[0])\n",
        "print (lista[1])\n",
        "print (lista[2])\n",
        "print (lista[3])\n",
        "print (lista[2][0]) \n",
        "#print (lista[3][1])\n",
        "print (lista[1:3])\n",
        "print (lista[-1])\n",
        "#print (lista[3][0])\n",
        "print (lista[-2])\n",
        "print(lista)"
      ],
      "execution_count": 0,
      "outputs": [
        {
          "output_type": "stream",
          "text": [
            "20\n",
            "18.5\n",
            "Programador\n",
            "True\n",
            "P\n",
            "[18.5, 'Programador']\n",
            "True\n",
            "['1', 6]\n",
            "[20, 18.5, 'Programador', True, ['1', 6], True]\n"
          ],
          "name": "stdout"
        }
      ]
    },
    {
      "cell_type": "markdown",
      "metadata": {
        "id": "5X8IodqIRojo",
        "colab_type": "text"
      },
      "source": [
        "### Operaciones con listas"
      ]
    },
    {
      "cell_type": "code",
      "metadata": {
        "id": "d91ybRp9Rs1m",
        "colab_type": "code",
        "outputId": "073d568d-7c01-487b-d471-049b01df4137",
        "colab": {
          "base_uri": "https://localhost:8080/",
          "height": 34
        }
      },
      "source": [
        "#Append\n",
        "\n",
        "lista.append(\"nuevo\")\n",
        "print(lista)"
      ],
      "execution_count": 0,
      "outputs": [
        {
          "output_type": "stream",
          "text": [
            "[20, 18.5, 'Programador', ['1', 6], True, 'nuevo']\n"
          ],
          "name": "stdout"
        }
      ]
    },
    {
      "cell_type": "code",
      "metadata": {
        "id": "ooqmll7CR7Dp",
        "colab_type": "code",
        "outputId": "b1e2b85a-dade-4583-d50c-797f94f9f90e",
        "colab": {
          "base_uri": "https://localhost:8080/",
          "height": 34
        }
      },
      "source": [
        "#Remove\n",
        "lista.pop(5)\n",
        "lista"
      ],
      "execution_count": 0,
      "outputs": [
        {
          "output_type": "execute_result",
          "data": {
            "text/plain": [
              "[20, 18.5, 'Programador', ['1', 6], True]"
            ]
          },
          "metadata": {
            "tags": []
          },
          "execution_count": 30
        }
      ]
    },
    {
      "cell_type": "code",
      "metadata": {
        "id": "rQp3fclsSvcq",
        "colab_type": "code",
        "outputId": "27a1d8c3-e3ab-418a-82a8-f00ec4bbcea8",
        "colab": {
          "base_uri": "https://localhost:8080/",
          "height": 34
        }
      },
      "source": [
        "#Index\n",
        "\n",
        "lista.index(True)"
      ],
      "execution_count": 0,
      "outputs": [
        {
          "output_type": "execute_result",
          "data": {
            "text/plain": [
              "3"
            ]
          },
          "metadata": {
            "tags": []
          },
          "execution_count": 18
        }
      ]
    },
    {
      "cell_type": "code",
      "metadata": {
        "id": "dToaZpoOTC01",
        "colab_type": "code",
        "outputId": "dc98e529-56f6-4e18-f7bb-3b2cf21a5cc4",
        "colab": {
          "base_uri": "https://localhost:8080/",
          "height": 34
        }
      },
      "source": [
        "#Reverse\n",
        "\n",
        "lista.reverse()\n",
        "print(lista)"
      ],
      "execution_count": 0,
      "outputs": [
        {
          "output_type": "stream",
          "text": [
            "[True, ['1', 6], True, 'Programador', 18.5, 20]\n"
          ],
          "name": "stdout"
        }
      ]
    },
    {
      "cell_type": "code",
      "metadata": {
        "id": "H_cXLivCUqrr",
        "colab_type": "code",
        "outputId": "ae3b20dd-2ed3-4f69-cbec-4d009fe500a5",
        "colab": {
          "base_uri": "https://localhost:8080/",
          "height": 72
        }
      },
      "source": [
        "#Combinar listas\n",
        "\n",
        "lista2= [20, 24, 18.5, 'Programador',True,[\"1\",6] ,True]\n",
        "\n",
        "print(lista+lista2)\n",
        "listau= lista+lista2\n",
        "print(listau)"
      ],
      "execution_count": 0,
      "outputs": [
        {
          "output_type": "stream",
          "text": [
            "[True, ['1', 6], True, 'Programador', 18.5, 20, 20, 24, 18.5, 'Programador', True, ['1', 6], True]\n",
            "[True, ['1', 6], True, 'Programador', 18.5, 20, 20, 24, 18.5, 'Programador', True, ['1', 6], True]\n"
          ],
          "name": "stdout"
        }
      ]
    },
    {
      "cell_type": "code",
      "metadata": {
        "id": "bdZkIn23VFBJ",
        "colab_type": "code",
        "outputId": "c25a1981-26f4-4983-c964-dd6fcc648af6",
        "colab": {
          "base_uri": "https://localhost:8080/",
          "height": 34
        }
      },
      "source": [
        "#String to list\n",
        "\n",
        "casilista = \"lista\"\n",
        "listac = list(casilista)\n",
        "listac"
      ],
      "execution_count": 0,
      "outputs": [
        {
          "output_type": "execute_result",
          "data": {
            "text/plain": [
              "['l', 'i', 's', 't', 'a']"
            ]
          },
          "metadata": {
            "tags": []
          },
          "execution_count": 37
        }
      ]
    },
    {
      "cell_type": "markdown",
      "metadata": {
        "id": "Hm_mVDLMWmGA",
        "colab_type": "text"
      },
      "source": [
        "#### Ejercicio\n",
        "\n",
        "Escriba un algoritmo que pida tres nombres y los almacene en lista. Al final, imprima la lista con los nombres"
      ]
    },
    {
      "cell_type": "code",
      "metadata": {
        "id": "m0LeyEAcWoPG",
        "colab_type": "code",
        "outputId": "a41269f9-3b83-4f34-af41-9514b02e6cc6",
        "colab": {
          "base_uri": "https://localhost:8080/",
          "height": 68
        }
      },
      "source": [
        "n1 = input(\"nombre 1: \")\n",
        "n2 = input(\"nombre 2: \")\n",
        "n3 = input(\"nombre 3: \")"
      ],
      "execution_count": 0,
      "outputs": [
        {
          "output_type": "stream",
          "text": [
            "nombre 1juan\n",
            "nombre 2pedro\n",
            "nombre 3otro\n"
          ],
          "name": "stdout"
        }
      ]
    },
    {
      "cell_type": "code",
      "metadata": {
        "id": "kvE3TMCqVI7M",
        "colab_type": "code",
        "outputId": "f4699c33-24f5-4970-9b05-2652004287ae",
        "colab": {
          "base_uri": "https://localhost:8080/",
          "height": 105
        }
      },
      "source": [
        "n1 = input(\"nombre 1: \")\n",
        "n2 = input(\"nombre 2: \")\n",
        "n3 = input(\"nombre 3: \")\n",
        "listan = []\n",
        "listan.append(n1)\n",
        "listan.append(n2)\n",
        "listan.append(n3)\n",
        "listan\n",
        "print(listan[0])\n",
        "type(listan)"
      ],
      "execution_count": 0,
      "outputs": [
        {
          "output_type": "stream",
          "text": [
            "nombre 1: d\n",
            "nombre 2: d\n",
            "nombre 3: \n",
            "d\n"
          ],
          "name": "stdout"
        },
        {
          "output_type": "execute_result",
          "data": {
            "text/plain": [
              "list"
            ]
          },
          "metadata": {
            "tags": []
          },
          "execution_count": 5
        }
      ]
    },
    {
      "cell_type": "markdown",
      "metadata": {
        "id": "p5kGIGhBZfqI",
        "colab_type": "text"
      },
      "source": [
        "##### Solución"
      ]
    },
    {
      "cell_type": "code",
      "metadata": {
        "id": "SbwmjyhjXf48",
        "colab_type": "code",
        "outputId": "5c411797-6f4c-42c6-be84-f1cac32505af",
        "colab": {
          "base_uri": "https://localhost:8080/",
          "height": 34
        }
      },
      "source": [
        "listan = []\n",
        "listan.append(n1)\n",
        "listan.append(n2)\n",
        "listan.append(n3)\n",
        "listan"
      ],
      "execution_count": 0,
      "outputs": [
        {
          "output_type": "execute_result",
          "data": {
            "text/plain": [
              "['j', 'v', 'd']"
            ]
          },
          "metadata": {
            "tags": []
          },
          "execution_count": 9
        }
      ]
    },
    {
      "cell_type": "markdown",
      "metadata": {
        "id": "4N11h09NaXJl",
        "colab_type": "text"
      },
      "source": [
        "## Diccionarios\n",
        "\n",
        "{clave : valor}\n"
      ]
    },
    {
      "cell_type": "code",
      "metadata": {
        "id": "TjqE1pmHayta",
        "colab_type": "code",
        "colab": {}
      },
      "source": [
        "diccionario = {'nombre' : 'Fabián', 'edad' : 24, 'cursos': ['Lógica','CTS','OTI3'] }"
      ],
      "execution_count": 0,
      "outputs": []
    },
    {
      "cell_type": "code",
      "metadata": {
        "id": "yfsnU7h2bGpe",
        "colab_type": "code",
        "outputId": "f662e59a-b683-4c4e-8097-82350f3dbfc2",
        "colab": {
          "base_uri": "https://localhost:8080/",
          "height": 70
        }
      },
      "source": [
        "print(diccionario[\"nombre\"])\n",
        "print(diccionario['edad'])\n",
        "print(diccionario['cursos'])"
      ],
      "execution_count": 0,
      "outputs": [
        {
          "output_type": "stream",
          "text": [
            "Fabián\n",
            "24\n",
            "['Lógica', 'CTS', 'OTI3']\n"
          ],
          "name": "stdout"
        }
      ]
    },
    {
      "cell_type": "code",
      "metadata": {
        "id": "atU4f8cWfPzv",
        "colab_type": "code",
        "outputId": "979e8ab9-84a5-4bc2-9db6-c68f729aae33",
        "colab": {
          "base_uri": "https://localhost:8080/",
          "height": 54
        }
      },
      "source": [
        "materias = {}\n",
        "materias[\"lunes\"] = [6103, 7540]\n",
        "materias[\"martes\"] = [6201]\n",
        "materias[\"miércoles\"] = [6103, 7540]\n",
        "materias[\"jueves\"] = \"CTS\"\n",
        "materias[\"viernes\"] = [6201]\n",
        "\n",
        "print(materias)"
      ],
      "execution_count": 0,
      "outputs": [
        {
          "output_type": "stream",
          "text": [
            "{'lunes': [6103, 7540], 'martes': [6201], 'miércoles': [6103, 7540], 'jueves': 'CTS', 'viernes': [6201]}\n"
          ],
          "name": "stdout"
        }
      ]
    },
    {
      "cell_type": "code",
      "metadata": {
        "id": "mNQljjokfbOz",
        "colab_type": "code",
        "outputId": "a0854508-2594-4ee6-a5c6-e034d44a3894",
        "colab": {
          "base_uri": "https://localhost:8080/",
          "height": 54
        }
      },
      "source": [
        "#Cambiar valor\n",
        "materias[\"lunes\"] = [1]\n",
        "print(materias)"
      ],
      "execution_count": 0,
      "outputs": [
        {
          "output_type": "stream",
          "text": [
            "{'lunes': [1], 'martes': [6201], 'miércoles': [6103, 7540], 'jueves': 'CTS', 'viernes': [6201]}\n"
          ],
          "name": "stdout"
        }
      ]
    },
    {
      "cell_type": "code",
      "metadata": {
        "id": "eU67v0Y1e55E",
        "colab_type": "code",
        "outputId": "c8faf563-4668-4ddb-9de0-aeeaf32f5d6d",
        "colab": {
          "base_uri": "https://localhost:8080/",
          "height": 34
        }
      },
      "source": [
        "#Values\n",
        "materias.values()"
      ],
      "execution_count": 0,
      "outputs": [
        {
          "output_type": "execute_result",
          "data": {
            "text/plain": [
              "dict_values([[1], [6201], [6103, 7540], 'CTS', [6201]])"
            ]
          },
          "metadata": {
            "tags": []
          },
          "execution_count": 13
        }
      ]
    },
    {
      "cell_type": "code",
      "metadata": {
        "id": "b6X9_yFVgupW",
        "colab_type": "code",
        "outputId": "2571f045-3362-4afc-c4f4-4648951895df",
        "colab": {
          "base_uri": "https://localhost:8080/",
          "height": 34
        }
      },
      "source": [
        "#Get\n",
        "materias.get(\"lunes\")"
      ],
      "execution_count": 0,
      "outputs": [
        {
          "output_type": "execute_result",
          "data": {
            "text/plain": [
              "[1]"
            ]
          },
          "metadata": {
            "tags": []
          },
          "execution_count": 14
        }
      ]
    },
    {
      "cell_type": "code",
      "metadata": {
        "id": "9cJPh0B3jFJx",
        "colab_type": "code",
        "outputId": "7904ab20-34a5-488c-8c20-7336d6dde50b",
        "colab": {
          "base_uri": "https://localhost:8080/",
          "height": 34
        }
      },
      "source": [
        "#Key\n",
        "materias.keys()"
      ],
      "execution_count": 0,
      "outputs": [
        {
          "output_type": "execute_result",
          "data": {
            "text/plain": [
              "dict_keys(['lunes', 'martes', 'miércoles', 'jueves', 'viernes'])"
            ]
          },
          "metadata": {
            "tags": []
          },
          "execution_count": 15
        }
      ]
    },
    {
      "cell_type": "markdown",
      "metadata": {
        "id": "f87Y9veDhm56",
        "colab_type": "text"
      },
      "source": [
        "###Ejercicio\n",
        "Durante el desarrollo de un pequeño videojuego se te encarga configurar y balancear cada clase de personaje jugable. Partiendo que la estadística base es 2, debes cumplir las siguientes condiciones: *\n",
        "\n",
        "* El caballero tiene el doble de vida y defensa que un guerrero.\n",
        "* El guerrero tiene el doble de ataque y alcance que un caballero.\n",
        "* El arquero tiene la misma vida y ataque que un guerrero, pero la mitad de su defensa y el doble de su alcance.\n",
        "\n",
        "Muestra como quedan las propiedades de los tres personajes.\n"
      ]
    },
    {
      "cell_type": "code",
      "metadata": {
        "id": "HGqmSBoCfDKo",
        "colab_type": "code",
        "colab": {}
      },
      "source": [
        "caballero = { 'vida':2, 'ataque':2, 'defensa': 2, 'alcance':2 }\n",
        "guerrero  = { 'vida':2, 'ataque':2, 'defensa': 2, 'alcance':2 }\n",
        "arquero   = { 'vida':2, 'ataque':2, 'defensa': 2, 'alcance':2 }"
      ],
      "execution_count": 0,
      "outputs": []
    },
    {
      "cell_type": "markdown",
      "metadata": {
        "id": "o_J_ivNzZyhL",
        "colab_type": "text"
      },
      "source": [
        "##Control del flujo"
      ]
    },
    {
      "cell_type": "markdown",
      "metadata": {
        "id": "BGgWBxCOZ5vn",
        "colab_type": "text"
      },
      "source": [
        "###Condicional If - Else"
      ]
    },
    {
      "cell_type": "code",
      "metadata": {
        "id": "jzMQN7URcM2P",
        "colab_type": "code",
        "outputId": "e239dec6-ae94-4c36-f811-3957da6d1da2",
        "colab": {
          "base_uri": "https://localhost:8080/",
          "height": 70
        }
      },
      "source": [
        "diasem = input(\"Qué dia es hoy?:\")\n",
        "if (diasem == \"Martes\"):\n",
        "  print (\"Hoy es martes\")\n",
        "print(\"Tolis!\")"
      ],
      "execution_count": 0,
      "outputs": [
        {
          "output_type": "stream",
          "text": [
            "Qué dia es hoy?:Martes\n",
            "Hoy es martes\n",
            "Tolis!\n"
          ],
          "name": "stdout"
        }
      ]
    },
    {
      "cell_type": "code",
      "metadata": {
        "id": "Pwu2htdObIuz",
        "colab_type": "code",
        "outputId": "b36ffe8d-f667-45da-8743-ee53c963338f",
        "colab": {
          "base_uri": "https://localhost:8080/",
          "height": 87
        }
      },
      "source": [
        "valor = int(input(\"Ingresa la opción 1 o 2: \"))\n",
        "if valor == 1:\n",
        "    print(\"Muy bien, Ganaste LogiPunto!\")\n",
        "else:\n",
        "    print(\"\"\"Léase con canto triste y desentonado\n",
        "    '...Haaaaay una luuuz...'\"\"\")\n",
        "print(\"Se acabó la clase, nos vemos luego\")"
      ],
      "execution_count": 0,
      "outputs": [
        {
          "output_type": "stream",
          "text": [
            "Ingresa la opción 1 o 2: 3\n",
            "Léase con canto triste y desentonado\n",
            "    '...Haaaaay una luuuz...'\n",
            "Se acabó la clase, nos vemos luego\n"
          ],
          "name": "stdout"
        }
      ]
    },
    {
      "cell_type": "markdown",
      "metadata": {
        "id": "sur8fu_visGD",
        "colab_type": "text"
      },
      "source": [
        "####Un\n"
      ]
    },
    {
      "cell_type": "code",
      "metadata": {
        "id": "CZgrz0KUhzRL",
        "colab_type": "code",
        "outputId": "8acfaa69-f78e-40fb-b3d5-49e5f7ba3662",
        "colab": {
          "base_uri": "https://localhost:8080/",
          "height": 70
        }
      },
      "source": [
        "val = int(input (\"Ingrese valor menor o igual a 200: \"))\n",
        "if val < 200:\n",
        "    print(\"El valor es menor a 200\")\n",
        "    if val <= 50:\n",
        "        print(\"es menor o igual a 50\")\n",
        "    elif val > 50 and val <= 100:\n",
        "        print(\"El valor está entre 51 y 100\")\n",
        "    elif val > 100 and val <= 150:\n",
        "        print(\"El valor está entre 101 y 150\")\n",
        "    elif val > 150 or val <= 200:\n",
        "        print(\"El valor está entre 151 y 200\")\n",
        "else:\n",
        "    print(\"El valor es mayor a 200\")"
      ],
      "execution_count": 0,
      "outputs": [
        {
          "output_type": "stream",
          "text": [
            "Ingrese valor menor o igual a 200: 150\n",
            "El valor es menor a 200\n",
            "El valor está entre 101 y 150\n"
          ],
          "name": "stdout"
        }
      ]
    },
    {
      "cell_type": "markdown",
      "metadata": {
        "id": "SrAGzomihcao",
        "colab_type": "text"
      },
      "source": [
        "###Ejercicio"
      ]
    },
    {
      "cell_type": "code",
      "metadata": {
        "id": "lnDPhiKOoA7m",
        "colab_type": "code",
        "outputId": "efb5b557-2e0f-4786-aeec-5610981a9310",
        "colab": {
          "base_uri": "https://localhost:8080/",
          "height": 52
        }
      },
      "source": [
        "num = int(input(\"Introduce un número: \"))\n",
        "if num%2 == 0:\n",
        "   print (\"Este numero es par\")   \n",
        "else:\n",
        "   print (\"Este numero es impar\")"
      ],
      "execution_count": 0,
      "outputs": [
        {
          "output_type": "stream",
          "text": [
            "Introduce un número: 0\n",
            "Este numero es par\n"
          ],
          "name": "stdout"
        }
      ]
    },
    {
      "cell_type": "markdown",
      "metadata": {
        "id": "SBurDfMmhhLz",
        "colab_type": "text"
      },
      "source": [
        "Elabora un algoritmo que me muestre un mensaje que me diga si el número es par o impar"
      ]
    },
    {
      "cell_type": "markdown",
      "metadata": {
        "id": "iUHnZ00No3un",
        "colab_type": "text"
      },
      "source": [
        "**Algoritmo que pregunte el día de la semana y si es igual a Jueves, escriba \"Que alegría, hoy toca Lógica Computacional\",** de lo contrario que diga \"Hoy es un día ordinario\", a menos que sea un fin de Sábado y escriba \"Hoy toca descansar!\""
      ]
    },
    {
      "cell_type": "code",
      "metadata": {
        "id": "LaNj15ZwukPb",
        "colab_type": "code",
        "outputId": "e14189d8-506d-4014-ecab-75fae42bb41a",
        "colab": {
          "base_uri": "https://localhost:8080/",
          "height": 52
        }
      },
      "source": [
        "dia=input(\"Ingrese que día es hoy:  \")\n",
        "\n",
        "\n",
        "if dia.lower() ==\"lunes\":\n",
        " print(\"Hoy es un día ordinario\")\n",
        "elif dia.lower() ==\"martes\":\n",
        " print(\"Hoy es un día ordinario\")\n",
        "elif dia.lower() == \"miércoles\":\n",
        " print(\"Hoy es un día ordinario\")\n",
        "elif dia.lower() == \"jueves\":\n",
        " print (\"Que alegría, hoy toca Lógica Computacional\")\n",
        "elif dia.lower() == \"viernes\":\n",
        " print(\"Hoy es un día ordinario\")\n",
        "elif dia.lower() == \"sábado\":\n",
        " print(\"Hoy toca descansar!\")\n",
        "elif dia.lower() == \"domingo\":\n",
        " print(\"Hoy toca descansar!\")\n",
        "else:\n",
        " print (dia,\"no es un día de la semana\")"
      ],
      "execution_count": 0,
      "outputs": [
        {
          "output_type": "stream",
          "text": [
            "Ingrese que día es hoy:  LUNES\n",
            "Hoy es un día ordinario\n"
          ],
          "name": "stdout"
        }
      ]
    },
    {
      "cell_type": "code",
      "metadata": {
        "id": "sHw2hzzjvH3B",
        "colab_type": "code",
        "outputId": "db60e92e-a4cf-4915-ad2a-2a65052abab7",
        "colab": {
          "base_uri": "https://localhost:8080/",
          "height": 52
        }
      },
      "source": [
        "dia = input (\"¿qué día es hoy, amiguitos?\")\n",
        "dia = dia.lower\n",
        "if (dia == 'jueves'):\n",
        "   print (\"Vale amiguitos, hoy nos toca Lógica computacional\")\n",
        "else:\n",
        "  if (dia == 'sabado'):\n",
        "    print (\"Hoy es día de descanso\")\n",
        "  else: \n",
        "    print (\"Un día re normal\")"
      ],
      "execution_count": 0,
      "outputs": [
        {
          "output_type": "stream",
          "text": [
            "¿qué día es hoy, amiguitos?MARTES\n",
            "Un día re normal\n"
          ],
          "name": "stdout"
        }
      ]
    },
    {
      "cell_type": "markdown",
      "metadata": {
        "id": "ktvz-pTsinL3",
        "colab_type": "text"
      },
      "source": [
        "####una solución"
      ]
    },
    {
      "cell_type": "code",
      "metadata": {
        "id": "UW6Pwnj_hfgL",
        "colab_type": "code",
        "colab": {}
      },
      "source": [
        "numero = int(input(\"Ingrese un número: \"))\n",
        "if numero %2 == 0:\n",
        "    print(numero,\"es par\")\n",
        "else:\n",
        "    print(\"El número:\",numero,\"es impar\")"
      ],
      "execution_count": 0,
      "outputs": []
    },
    {
      "cell_type": "code",
      "metadata": {
        "id": "6QbN_ryrnmf0",
        "colab_type": "code",
        "outputId": "60b83df8-41db-4810-8bac-9d9583982e9a",
        "colab": {
          "base_uri": "https://localhost:8080/",
          "height": 151
        }
      },
      "source": [
        "# Solución Taller 1\n",
        "\n",
        "precio = int(input(\"Ingrese el precio del producto: \"))\n",
        "carac = input(\"¿El producto es nuevo?:\\nIngrese 1.Sí o 2.No\")\n",
        "if precio <= 10000:\n",
        "  imp=\"5%\"\n",
        "  subt = (precio+(precio*0.05))\n",
        "elif precio >= 10001 and precio <= 50000:\n",
        "  imp=\"10%\"\n",
        "  subt = (precio+(precio*0.1))\n",
        "elif precio >= 50001 and precio <= 500000:\n",
        "  imp=\"15%\"\n",
        "  subt = (precio+(precio*0.15))\n",
        "elif precio >=50001:\n",
        "  imp=\"20%\"\n",
        "  subt = (precio+(precio*0.2))\n",
        "else:\n",
        "    print(\"¿Qué será esto?\")\n",
        "carac = int(carac)\n",
        "if carac == 1:\n",
        "  car = 15000\n",
        "  tot= (subt+car)\n",
        "  print(\"\\n\",\"Precio de venta: \", precio,\"\\n\",\"Impuesto: \",imp,\"--\",subt,\"\\n\",\"Valor del seguro: \",car,\"\\n\",\"Valor total: \",int(tot))\n",
        "elif carac == 2:\n",
        "  car = 5000\n",
        "  tot = (subt+car)\n",
        "  print(\"\\n\",\"Precio de venta: \", precio,\"\\n\",\"Impuesto: \",imp,\"--\",subt,\"\\n\",\"Valor del seguro: \",car,\"\\n\",\"Valor total: \",int(tot))\n",
        "else:\n",
        "    print(\"Error\\nDato no válido. Adiós\")"
      ],
      "execution_count": 0,
      "outputs": [
        {
          "output_type": "stream",
          "text": [
            "Ingrese el precio del producto: 6000\n",
            "¿El producto es nuevo?:\n",
            "Ingrese 1.Sí o 2.No1\n",
            "\n",
            " Precio de venta:  6000 \n",
            " Impuesto:  5% -- 6300.0 \n",
            " Valor del seguro:  15000 \n",
            " Valor total:  21300\n"
          ],
          "name": "stdout"
        }
      ]
    },
    {
      "cell_type": "markdown",
      "metadata": {
        "id": "wtYYEVwp5ZnZ",
        "colab_type": "text"
      },
      "source": [
        "##Ciclos"
      ]
    },
    {
      "cell_type": "code",
      "metadata": {
        "id": "U9G9kqkj90xi",
        "colab_type": "code",
        "outputId": "74f9c4f3-7b13-46cf-d1a2-0f4fbb9d186a",
        "colab": {
          "base_uri": "https://localhost:8080/",
          "height": 104
        }
      },
      "source": [
        "a = int(input(\"Cuántas veces tiene que saludar: \"))\n",
        "for s in range(a):\n",
        "    print(s,\"Hola qué tal\")\n",
        "print(\"Hola final\")"
      ],
      "execution_count": 0,
      "outputs": [
        {
          "output_type": "stream",
          "text": [
            "Cuántas veces tiene que saludar: 3\n",
            "0 Hola qué tal\n",
            "1 Hola qué tal\n",
            "2 Hola qué tal\n",
            "Hola final\n"
          ],
          "name": "stdout"
        }
      ]
    },
    {
      "cell_type": "code",
      "metadata": {
        "id": "ODc3PiuB6nil",
        "colab_type": "code",
        "outputId": "37394312-58fc-4a86-d240-5f0d358dfb4b",
        "colab": {
          "base_uri": "https://localhost:8080/",
          "height": 104
        }
      },
      "source": [
        "#Ventas\n",
        "producto = int(input(\"Cuántos productos vendió Sneider: \"))\n",
        "preciot = 0\n",
        "for i in range(producto):\n",
        "    precio = int(input(\"¿Cuál es el valor del producto: \"))\n",
        "    preciot = preciot+precio\n",
        "print(\"El valor de la venta total fue: \", preciot)"
      ],
      "execution_count": 0,
      "outputs": [
        {
          "output_type": "stream",
          "text": [
            "Cuántos productos vendió Sneider: 3\n",
            "¿Cuál es el valor del producto: 500\n",
            "¿Cuál es el valor del producto: 600\n",
            "¿Cuál es el valor del producto: 200\n",
            "El valor de la venta total fue:  1300\n"
          ],
          "name": "stdout"
        }
      ]
    },
    {
      "cell_type": "code",
      "metadata": {
        "id": "HMrMTjdVCJi_",
        "colab_type": "code",
        "outputId": "ad8df696-fa83-4569-d6a7-efa4eb47b1aa",
        "colab": {
          "base_uri": "https://localhost:8080/",
          "height": 312
        }
      },
      "source": [
        "#Ventas\n",
        "cantidad = int(input(\"Cuántos productos vendió Sneider: \"))\n",
        "preciot = 0\n",
        "for i in range(cantidad):\n",
        "    print(\"Seleccione producto\")\n",
        "    producto = int(input(\"producto vendido: \\n-Empanada = 1\\n-Pastel = 2\\n\"))\n",
        "    if producto ==1:\n",
        "        preciot=preciot+1500\n",
        "    elif producto == 2:\n",
        "        preciot=preciot+2000\n",
        "    else:\n",
        "        preciot=preciot+3500\n",
        "print(\"El valor de la venta total fue: \", preciot)"
      ],
      "execution_count": 0,
      "outputs": [
        {
          "output_type": "stream",
          "text": [
            "Cuántos productos vendió Sneider: 3\n",
            "Seleccione producto\n",
            "producto vendido: \n",
            "-Empanada = 1\n",
            "-Pastel = 2\n",
            "1\n",
            "Seleccione producto\n",
            "producto vendido: \n",
            "-Empanada = 1\n",
            "-Pastel = 2\n",
            "1\n",
            "Seleccione producto\n",
            "producto vendido: \n",
            "-Empanada = 1\n",
            "-Pastel = 2\n",
            "2\n",
            "El valor de la venta total fue:  5000\n"
          ],
          "name": "stdout"
        }
      ]
    },
    {
      "cell_type": "code",
      "metadata": {
        "id": "6F7Ymx2QH2US",
        "colab_type": "code",
        "outputId": "794291b6-d14c-4e3c-bc65-41d4ece85e40",
        "colab": {
          "base_uri": "https://localhost:8080/",
          "height": 173
        }
      },
      "source": [
        "#Mientras\n",
        "c=1\n",
        "while c == 1:\n",
        "    print(\"Estamos de servicio!\")\n",
        "    c=int(input(\"Escriba \\n 1 Para seguir \\n Cualquier tecla para cerrar:\"))\n",
        "print(\"Ya cerramos\")"
      ],
      "execution_count": 0,
      "outputs": [
        {
          "output_type": "stream",
          "text": [
            "Estamos de servicio!\n",
            "Escriba \n",
            " 1 Para seguir \n",
            " Cualquier tecla para cerrar:1\n",
            "Estamos de servicio!\n",
            "Escriba \n",
            " 1 Para seguir \n",
            " Cualquier tecla para cerrar:0\n",
            "Ya cerramos\n"
          ],
          "name": "stdout"
        }
      ]
    },
    {
      "cell_type": "code",
      "metadata": {
        "id": "65f1GUsLF05u",
        "colab_type": "code",
        "outputId": "82db9ad8-915e-406a-8178-221d80cebd01",
        "colab": {
          "base_uri": "https://localhost:8080/",
          "height": 590
        }
      },
      "source": [
        "#Integrado\n",
        "c=1\n",
        "while c == 1:\n",
        "    print(\"Estamos de servicio!\")\n",
        "    cantidad = int(input(\"Cuántos productos vendió Sneider: \"))\n",
        "    preciot = 0\n",
        "    for i in range(cantidad):\n",
        "        print(\"Seleccione producto\")\n",
        "        producto = int(input(\"producto vendido: \\n-Empanada = 1\\n-Pastel = 2\\n\"))\n",
        "        if producto ==1:\n",
        "            preciot=preciot+1500\n",
        "        elif producto == 2:\n",
        "            preciot=preciot+2000\n",
        "        else:\n",
        "            preciot=preciot+3500\n",
        "    print(\"El valor de la venta total fue: \", preciot)\n",
        "    c=int(input(\"TODAVÍA DE SERVICIO? \\n 1 Para seguir \\n Cualquier tecla para cerrar:\"))\n",
        "print(\"Ya cerramos\")"
      ],
      "execution_count": 0,
      "outputs": [
        {
          "output_type": "stream",
          "text": [
            "Estamos de servicio!\n",
            "Cuántos productos vendió Sneider: 3\n",
            "Seleccione producto\n",
            "producto vendido: \n",
            "-Empanada = 1\n",
            "-Pastel = 2\n",
            "1\n",
            "Seleccione producto\n",
            "producto vendido: \n",
            "-Empanada = 1\n",
            "-Pastel = 2\n",
            "2\n",
            "Seleccione producto\n",
            "producto vendido: \n",
            "-Empanada = 1\n",
            "-Pastel = 2\n",
            "2\n",
            "El valor de la venta total fue:  5500\n",
            "TODAVÍA DE SERVICIO? \n",
            " 1 Para seguir \n",
            " Cualquier tecla para cerrar:1\n",
            "Estamos de servicio!\n",
            "Cuántos productos vendió Sneider: 1\n",
            "Seleccione producto\n",
            "producto vendido: \n",
            "-Empanada = 1\n",
            "-Pastel = 2\n",
            "1\n",
            "El valor de la venta total fue:  1500\n",
            "TODAVÍA DE SERVICIO? \n",
            " 1 Para seguir \n",
            " Cualquier tecla para cerrar:0\n",
            "Ya cerramos\n"
          ],
          "name": "stdout"
        }
      ]
    },
    {
      "cell_type": "code",
      "metadata": {
        "id": "XOHgTVqD5eI3",
        "colab_type": "code",
        "outputId": "e2d58987-c8f4-4c36-94da-b26d1dcb561f",
        "colab": {
          "base_uri": "https://localhost:8080/",
          "height": 190
        }
      },
      "source": [
        "for i in range(0,10):\n",
        "    l=i+2\n",
        "    print(\"recorrido: \", i, \"\\tvalor: \", l)"
      ],
      "execution_count": 0,
      "outputs": [
        {
          "output_type": "stream",
          "text": [
            "recorrido:  0 \tvalor:  2\n",
            "recorrido:  1 \tvalor:  3\n",
            "recorrido:  2 \tvalor:  4\n",
            "recorrido:  3 \tvalor:  5\n",
            "recorrido:  4 \tvalor:  6\n",
            "recorrido:  5 \tvalor:  7\n",
            "recorrido:  6 \tvalor:  8\n",
            "recorrido:  7 \tvalor:  9\n",
            "recorrido:  8 \tvalor:  10\n",
            "recorrido:  9 \tvalor:  11\n"
          ],
          "name": "stdout"
        }
      ]
    },
    {
      "cell_type": "markdown",
      "metadata": {
        "id": "97rHAuhZLl4t",
        "colab_type": "text"
      },
      "source": [
        "###Ejercicio\n",
        "\n",
        "Calcular el valor de un paquete turístico **dependiendo** del número de personas interesadas y **de acuerdo al** servicio requerido, es decir: \n",
        "1. vuelo\n",
        "2. vuelvo + hotel\n",
        "3. vuelo + hotel + carro\n",
        "\n",
        "Haga el cálculo **mientras** el registro de turismo del operador esté vigente."
      ]
    },
    {
      "cell_type": "code",
      "metadata": {
        "id": "v16jZw30MlBp",
        "colab_type": "code",
        "colab": {}
      },
      "source": [
        ""
      ],
      "execution_count": 0,
      "outputs": []
    },
    {
      "cell_type": "markdown",
      "metadata": {
        "id": "lGSlhU7F8BCF",
        "colab_type": "text"
      },
      "source": [
        "## Programación orientada a objetos y librerías"
      ]
    },
    {
      "cell_type": "markdown",
      "metadata": {
        "id": "8p36Pv-pKe8T",
        "colab_type": "text"
      },
      "source": [
        "[Video de explicación](https://www.youtube.com/watch?v=Nka4JSBgf7I)"
      ]
    },
    {
      "cell_type": "code",
      "metadata": {
        "id": "9_CweHKXKdNx",
        "colab_type": "code",
        "colab": {}
      },
      "source": [
        "class Persona:\n",
        "    \"\"\"Características de la Persona\"\"\"\n",
        "    cedula = \"16862789\"\n",
        "    nombre = \"José\"\n",
        "    apellido = \"López\"\n",
        "    sexo = \"M\"\n",
        "    \n",
        "    def hablar(parametro):\n",
        "        \"\"\"Acción saludar\"\"\"\n",
        "        mensaje=\"Saludos\"\n",
        "        return mensaje"
      ],
      "execution_count": 0,
      "outputs": []
    },
    {
      "cell_type": "code",
      "metadata": {
        "id": "Qz6T2EagXU8R",
        "colab_type": "code",
        "colab": {}
      },
      "source": [
        "julian = Persona()"
      ],
      "execution_count": 0,
      "outputs": []
    },
    {
      "cell_type": "code",
      "metadata": {
        "id": "OSaz2STbwmF6",
        "colab_type": "code",
        "colab": {}
      },
      "source": [
        "julian1 = \"persona\""
      ],
      "execution_count": 0,
      "outputs": []
    },
    {
      "cell_type": "code",
      "metadata": {
        "id": "9uIad1EkXgls",
        "colab_type": "code",
        "outputId": "0f89fd14-1adc-48e4-ca28-d2d0ce2963fb",
        "colab": {
          "base_uri": "https://localhost:8080/",
          "height": 34
        }
      },
      "source": [
        "type(julian)"
      ],
      "execution_count": 0,
      "outputs": [
        {
          "output_type": "execute_result",
          "data": {
            "text/plain": [
              "__main__.Persona"
            ]
          },
          "metadata": {
            "tags": []
          },
          "execution_count": 15
        }
      ]
    },
    {
      "cell_type": "code",
      "metadata": {
        "id": "2pUNCHH4YMJT",
        "colab_type": "code",
        "outputId": "542b4bdc-b652-4d3c-c5f4-07e8d9de8fc4",
        "colab": {
          "base_uri": "https://localhost:8080/",
          "height": 34
        }
      },
      "source": [
        "type(julian1)"
      ],
      "execution_count": 0,
      "outputs": [
        {
          "output_type": "execute_result",
          "data": {
            "text/plain": [
              "str"
            ]
          },
          "metadata": {
            "tags": []
          },
          "execution_count": 5
        }
      ]
    },
    {
      "cell_type": "code",
      "metadata": {
        "id": "WSPFkw_Lx6KK",
        "colab_type": "code",
        "colab": {}
      },
      "source": [
        ""
      ],
      "execution_count": 0,
      "outputs": []
    },
    {
      "cell_type": "code",
      "metadata": {
        "id": "wt95J2sYxMn5",
        "colab_type": "code",
        "outputId": "57337cb8-c524-4792-98e2-ddf0d518355a",
        "colab": {
          "base_uri": "https://localhost:8080/",
          "height": 34
        }
      },
      "source": [
        "julian.hablar()"
      ],
      "execution_count": 0,
      "outputs": [
        {
          "output_type": "execute_result",
          "data": {
            "text/plain": [
              "'Saludos'"
            ]
          },
          "metadata": {
            "tags": []
          },
          "execution_count": 10
        }
      ]
    },
    {
      "cell_type": "markdown",
      "metadata": {
        "id": "EIse3wdIY4yp",
        "colab_type": "text"
      },
      "source": [
        "### Librerías"
      ]
    },
    {
      "cell_type": "code",
      "metadata": {
        "id": "QpwPjf5KYZQT",
        "colab_type": "code",
        "colab": {}
      },
      "source": [
        "import time\n",
        "import pandas as pd\n",
        "import math"
      ],
      "execution_count": 0,
      "outputs": []
    },
    {
      "cell_type": "code",
      "metadata": {
        "id": "Q-ehrVXvY-qr",
        "colab_type": "code",
        "colab": {}
      },
      "source": [
        "hora = time.timezone"
      ],
      "execution_count": 0,
      "outputs": []
    },
    {
      "cell_type": "code",
      "metadata": {
        "id": "y67OZ4g_ZTyH",
        "colab_type": "code",
        "outputId": "44c9d687-a764-4344-89e4-6951f520ed09",
        "colab": {
          "base_uri": "https://localhost:8080/",
          "height": 34
        }
      },
      "source": [
        "print(hora)"
      ],
      "execution_count": 0,
      "outputs": [
        {
          "output_type": "stream",
          "text": [
            "1568901801.8048356\n"
          ],
          "name": "stdout"
        }
      ]
    },
    {
      "cell_type": "code",
      "metadata": {
        "id": "F9gpuv9NZUf7",
        "colab_type": "code",
        "colab": {}
      },
      "source": [
        "raiz = math.sqrt(16)"
      ],
      "execution_count": 0,
      "outputs": []
    },
    {
      "cell_type": "code",
      "metadata": {
        "id": "-N_xsjFycxqQ",
        "colab_type": "code",
        "outputId": "29da2ffb-d3e4-4780-95e4-82e2ff5dcd54",
        "colab": {
          "base_uri": "https://localhost:8080/",
          "height": 34
        }
      },
      "source": [
        "print(raiz)"
      ],
      "execution_count": 0,
      "outputs": [
        {
          "output_type": "stream",
          "text": [
            "4.0\n"
          ],
          "name": "stdout"
        }
      ]
    },
    {
      "cell_type": "code",
      "metadata": {
        "id": "bKIjERBZ2kNx",
        "colab_type": "code",
        "outputId": "4b6a47aa-35be-4aee-e5b4-26d8780c159f",
        "colab": {
          "base_uri": "https://localhost:8080/",
          "height": 34
        }
      },
      "source": [
        "type(raiz)"
      ],
      "execution_count": 0,
      "outputs": [
        {
          "output_type": "execute_result",
          "data": {
            "text/plain": [
              "float"
            ]
          },
          "metadata": {
            "tags": []
          },
          "execution_count": 17
        }
      ]
    },
    {
      "cell_type": "code",
      "metadata": {
        "id": "J0e4j1wFcyiZ",
        "colab_type": "code",
        "colab": {}
      },
      "source": [
        "dic={'fecha':['10-08-2019','12-08-2019','4-09-2019'],'animal':['perro', 'perro', 'perro'], 'raza':['pastor alemán','pug','labrador'],'tamaño cm':['150','50','160']}"
      ],
      "execution_count": 0,
      "outputs": []
    },
    {
      "cell_type": "code",
      "metadata": {
        "id": "_6HJseh4fFAX",
        "colab_type": "code",
        "colab": {}
      },
      "source": [
        "animales=pd.DataFrame(dic)"
      ],
      "execution_count": 0,
      "outputs": []
    },
    {
      "cell_type": "code",
      "metadata": {
        "id": "eW9LrfhXhLQQ",
        "colab_type": "code",
        "outputId": "5e09d3ba-7555-4519-e337-458c7b0559ec",
        "colab": {
          "base_uri": "https://localhost:8080/",
          "height": 141
        }
      },
      "source": [
        "animales"
      ],
      "execution_count": 0,
      "outputs": [
        {
          "output_type": "execute_result",
          "data": {
            "text/html": [
              "<div>\n",
              "<style scoped>\n",
              "    .dataframe tbody tr th:only-of-type {\n",
              "        vertical-align: middle;\n",
              "    }\n",
              "\n",
              "    .dataframe tbody tr th {\n",
              "        vertical-align: top;\n",
              "    }\n",
              "\n",
              "    .dataframe thead th {\n",
              "        text-align: right;\n",
              "    }\n",
              "</style>\n",
              "<table border=\"1\" class=\"dataframe\">\n",
              "  <thead>\n",
              "    <tr style=\"text-align: right;\">\n",
              "      <th></th>\n",
              "      <th>fecha</th>\n",
              "      <th>animal</th>\n",
              "      <th>raza</th>\n",
              "      <th>tamaño cm</th>\n",
              "    </tr>\n",
              "  </thead>\n",
              "  <tbody>\n",
              "    <tr>\n",
              "      <th>0</th>\n",
              "      <td>10-08-2019</td>\n",
              "      <td>perro</td>\n",
              "      <td>pastor alemán</td>\n",
              "      <td>150</td>\n",
              "    </tr>\n",
              "    <tr>\n",
              "      <th>1</th>\n",
              "      <td>12-08-2019</td>\n",
              "      <td>perro</td>\n",
              "      <td>pug</td>\n",
              "      <td>50</td>\n",
              "    </tr>\n",
              "    <tr>\n",
              "      <th>2</th>\n",
              "      <td>4-09-2019</td>\n",
              "      <td>perro</td>\n",
              "      <td>labrador</td>\n",
              "      <td>160</td>\n",
              "    </tr>\n",
              "  </tbody>\n",
              "</table>\n",
              "</div>"
            ],
            "text/plain": [
              "        fecha animal           raza tamaño cm\n",
              "0  10-08-2019  perro  pastor alemán       150\n",
              "1  12-08-2019  perro            pug        50\n",
              "2   4-09-2019  perro       labrador       160"
            ]
          },
          "metadata": {
            "tags": []
          },
          "execution_count": 28
        }
      ]
    },
    {
      "cell_type": "code",
      "metadata": {
        "id": "1kFdsMtzfKlG",
        "colab_type": "code",
        "outputId": "a698d180-461f-47ce-db31-e8f1d590ace3",
        "colab": {
          "base_uri": "https://localhost:8080/",
          "height": 87
        }
      },
      "source": [
        "df.head"
      ],
      "execution_count": 0,
      "outputs": [
        {
          "output_type": "execute_result",
          "data": {
            "text/plain": [
              "<bound method NDFrame.head of         fecha animal           raza tamaño cm\n",
              "0  10-08-2019  perro  pastor alemán       150\n",
              "1  12-08-2019  perro            pug        50\n",
              "2   4-09-2019  perro       labrador       160>"
            ]
          },
          "metadata": {
            "tags": []
          },
          "execution_count": 25
        }
      ]
    },
    {
      "cell_type": "code",
      "metadata": {
        "id": "-a4-COjEfM6f",
        "colab_type": "code",
        "outputId": "2f6cc8b9-b367-4dcd-b9c5-385cfe671d7c",
        "colab": {
          "base_uri": "https://localhost:8080/",
          "height": 34
        }
      },
      "source": [
        "type(df)"
      ],
      "execution_count": 0,
      "outputs": [
        {
          "output_type": "execute_result",
          "data": {
            "text/plain": [
              "pandas.core.frame.DataFrame"
            ]
          },
          "metadata": {
            "tags": []
          },
          "execution_count": 26
        }
      ]
    },
    {
      "cell_type": "code",
      "metadata": {
        "id": "5LMaqQqn5f_z",
        "colab_type": "code",
        "colab": {}
      },
      "source": [
        ""
      ],
      "execution_count": 0,
      "outputs": []
    }
  ]
}